{
  "nbformat": 4,
  "nbformat_minor": 0,
  "metadata": {
    "colab": {
      "name": "neural_a.ipynb",
      "provenance": [],
      "collapsed_sections": []
    },
    "kernelspec": {
      "name": "python3",
      "display_name": "Python 3"
    },
    "language_info": {
      "name": "python"
    }
  },
  "cells": [
    {
      "cell_type": "code",
      "execution_count": 48,
      "metadata": {
        "id": "fi7fuKB7_sYM"
      },
      "outputs": [],
      "source": [
        "import numpy as np\n",
        "import pandas as pd\n",
        "import math\n",
        "import time\n",
        "import matplotlib.pyplot as plt"
      ]
    },
    {
      "cell_type": "code",
      "source": [
        "from google.colab import drive\n",
        "drive.mount('/content/drive')"
      ],
      "metadata": {
        "colab": {
          "base_uri": "https://localhost:8080/"
        },
        "id": "DdpCFG0-oIwy",
        "outputId": "50a931f8-77d8-4901-c99a-9b1f729660e2"
      },
      "execution_count": 49,
      "outputs": [
        {
          "output_type": "stream",
          "name": "stdout",
          "text": [
            "Drive already mounted at /content/drive; to attempt to forcibly remount, call drive.mount(\"/content/drive\", force_remount=True).\n"
          ]
        }
      ]
    },
    {
      "cell_type": "markdown",
      "source": [
        "Activation function methods are ready, which will be used in the neural network, if act_type = 0 we use log sigmoid activation function, if act_type = 1 we use tanh activation function, and last if act_type = 2 we use relu activation function.\n",
        "\n",
        "Refer to 'Table of activation functions' from https://en.wikipedia.org/wiki/Activation_function for activation function."
      ],
      "metadata": {
        "id": "aGjF_C3U9VGY"
      }
    },
    {
      "cell_type": "code",
      "source": [
        "def sigmoid(X):\n",
        "    return (1/(1+np.exp(-X)))\n",
        "\n",
        "# Will be used as activation function for hidden as well as output layer\n",
        "def tanh(X):\n",
        "    return np.tanh(X)\n",
        "\n",
        "def relu(X):\n",
        "    return X.clip(0)\n",
        "\n",
        "def derivative_sigmoid(X):\n",
        "    return X*(1-X)\n",
        "\n",
        "def derivative_tanh(X):\n",
        "    return 1-np.power(X, 2)\n",
        "\n",
        "def derivative_relu(X):\n",
        "    return (X>0).astype('float32')\n",
        "\n",
        "# Will be used in last Layer if Cross Entropy losss function is used\n",
        "def softmax(X):\n",
        "    x = np.exp(X)\n",
        "    return x/np.sum(x, axis=1, keepdims=True)\n"
      ],
      "metadata": {
        "id": "Ae9Z7M-1AEWF"
      },
      "execution_count": 50,
      "outputs": []
    },
    {
      "cell_type": "markdown",
      "source": [
        "Loss function if loss_type = 0 we use Cross Entropy as our Loss function and if loss_type = 1 we use Mean Squared Error as our Loss function. For more information check https://en.wikipedia.org/wiki/Loss_function."
      ],
      "metadata": {
        "id": "GovIrL3WB5Ul"
      }
    },
    {
      "cell_type": "code",
      "source": [
        "def CE(Y_train, Y):\n",
        "    multiplier = -1/Y_train.shape[0]\n",
        "    eps = 1e-15\n",
        "    return multiplier*np.sum(np.log(np.clip(np.sum(Y_train*Y, axis=1), eps, 1-eps)))\n",
        "    \n",
        "def MSE(Y_train, Y):\n",
        "    multiplier = 1/(2*Y_train.shape[0])\n",
        "    return multiplier*np.sum(np.sum(np.square(np.subtract(Y_train, Y)), axis=0), axis=0)"
      ],
      "metadata": {
        "id": "Nvr8mUsTEXCI"
      },
      "execution_count": 51,
      "outputs": []
    },
    {
      "cell_type": "markdown",
      "source": [
        "Reading Training Dataset and applying required modifications on training dataset"
      ],
      "metadata": {
        "id": "qvJMuaQIX7RN"
      }
    },
    {
      "cell_type": "code",
      "source": [
        "start = time.time()\n",
        "df_train = pd.read_csv('/content/drive/MyDrive/Toy Dataset/toy_dataset_train.csv', header=None)\n",
        "\n",
        "# First column of train dataset contains Y values\n",
        "Y_train = df_train[df_train.columns[0]].to_numpy()\n",
        "Y_train = pd.get_dummies(Y_train).to_numpy()\n",
        "\n",
        "# Dropping first column of dataframe as Y value has been retained\n",
        "df_train.drop(df_train.columns[0], inplace=True, axis=1)\n",
        "X_train = df_train.to_numpy()\n",
        "# Scaling pixel values between 0 to 1\n",
        "X_train = X_train/255\n",
        "\n",
        "print(\"Training input data --> 3000 images with 200 cols(features)\")\n",
        "print(pd.DataFrame(X_train))\n",
        "\n",
        "print(\"Training output label --> One hot encoded\")\n",
        "print(pd.DataFrame(Y_train))"
      ],
      "metadata": {
        "colab": {
          "base_uri": "https://localhost:8080/"
        },
        "id": "asaOlpUqYJzK",
        "outputId": "c579b9b1-dc57-492f-ebfb-1ab972657342"
      },
      "execution_count": 52,
      "outputs": [
        {
          "output_type": "stream",
          "name": "stdout",
          "text": [
            "Training input data --> 3000 images with 200 cols(features)\n",
            "      0         1         2         3         4         5         6    \\\n",
            "0     0.0  0.000000  0.000000  0.000000  0.188235  0.933333  0.988235   \n",
            "1     0.0  0.000000  0.000000  0.000000  0.000000  0.000000  0.000000   \n",
            "2     0.0  0.125490  0.929412  0.992157  0.988235  0.278431  0.000000   \n",
            "3     0.0  0.000000  0.019608  0.247059  0.772549  0.000000  0.000000   \n",
            "4     0.0  0.003922  0.658824  0.949020  0.109804  0.000000  0.000000   \n",
            "...   ...       ...       ...       ...       ...       ...       ...   \n",
            "2995  0.0  0.039216  0.650980  0.882353  0.992157  0.992157  0.992157   \n",
            "2996  0.0  0.321569  0.807843  0.992157  0.988235  0.988235  0.988235   \n",
            "2997  0.0  0.000000  0.000000  0.031373  0.513725  0.839216  0.984314   \n",
            "2998  0.0  0.000000  0.000000  0.529412  0.968627  0.988235  0.909804   \n",
            "2999  0.0  0.000000  0.000000  0.000000  0.105882  0.482353  0.917647   \n",
            "\n",
            "           7         8         9    ...  190       191       192       193  \\\n",
            "0     0.988235  0.988235  0.929412  ...  0.0  0.000000  0.000000  0.027451   \n",
            "1     0.000000  0.486275  0.992157  ...  0.0  0.000000  0.000000  0.000000   \n",
            "2     0.000000  0.000000  0.000000  ...  0.0  0.000000  0.000000  0.000000   \n",
            "3     0.000000  0.000000  0.000000  ...  0.0  0.000000  0.000000  0.000000   \n",
            "4     0.000000  0.000000  0.000000  ...  0.0  0.000000  0.000000  0.000000   \n",
            "...        ...       ...       ...  ...  ...       ...       ...       ...   \n",
            "2995  0.964706  0.419608  0.015686  ...  0.0  0.219608  0.882353  0.992157   \n",
            "2996  0.992157  0.988235  0.733333  ...  0.0  0.000000  0.027451  0.800000   \n",
            "2997  0.984314  0.984314  0.984314  ...  0.0  0.000000  0.282353  0.984314   \n",
            "2998  0.490196  0.000000  0.000000  ...  0.0  0.000000  0.000000  0.000000   \n",
            "2999  0.960784  0.992157  0.992157  ...  0.0  0.000000  0.341176  0.976471   \n",
            "\n",
            "           194       195       196       197       198       199  \n",
            "0     0.698039  0.988235  0.941176  0.278431  0.074510  0.109804  \n",
            "1     0.000000  0.000000  0.000000  0.000000  0.000000  0.125490  \n",
            "2     0.000000  0.000000  0.000000  0.000000  0.000000  1.000000  \n",
            "3     0.000000  0.000000  0.000000  0.000000  0.000000  0.698039  \n",
            "4     0.000000  0.000000  0.000000  0.000000  0.113725  0.996078  \n",
            "...        ...       ...       ...       ...       ...       ...  \n",
            "2995  0.992157  0.992157  0.403922  0.000000  0.000000  0.000000  \n",
            "2996  0.992157  0.839216  0.000000  0.000000  0.000000  0.000000  \n",
            "2997  0.984314  0.984314  0.898039  0.270588  0.058824  0.000000  \n",
            "2998  0.000000  0.000000  0.000000  0.000000  0.000000  1.000000  \n",
            "2999  0.992157  0.666667  0.000000  0.000000  0.000000  0.000000  \n",
            "\n",
            "[3000 rows x 200 columns]\n",
            "Training output label --> One hot encoded\n",
            "      0  1\n",
            "0     1  0\n",
            "1     0  1\n",
            "2     0  1\n",
            "3     0  1\n",
            "4     0  1\n",
            "...  .. ..\n",
            "2995  1  0\n",
            "2996  1  0\n",
            "2997  1  0\n",
            "2998  0  1\n",
            "2999  1  0\n",
            "\n",
            "[3000 rows x 2 columns]\n"
          ]
        }
      ]
    },
    {
      "cell_type": "markdown",
      "source": [
        "Reading testing feature vector and also labels of testing dataset seperately, also making modifications required."
      ],
      "metadata": {
        "id": "X4xWtO4anooa"
      }
    },
    {
      "cell_type": "code",
      "source": [
        "# First colum of test dataset contains -1s so we need to drop the first column\n",
        "df_test = pd.read_csv('/content/drive/MyDrive/Toy Dataset/toy_dataset_test.csv', header=None)\n",
        "X_test = df_test.to_numpy()\n",
        "X_test = X_test[:,1:]\n",
        "X_test = X_test/255\n",
        "\n",
        "df_test1 = pd.read_csv('/content/drive/MyDrive/Toy Dataset/toy_dataset_test_labels.csv', header=None)\n",
        "Y_test = df_test1.to_numpy()\n",
        "\n",
        "print(\"Testing input data --> 300 images with 200 cols(features)\")\n",
        "print(pd.DataFrame(X_test))\n",
        "\n",
        "print(\"Testing output label --> class wise segregation\")\n",
        "print(pd.DataFrame(Y_test))"
      ],
      "metadata": {
        "colab": {
          "base_uri": "https://localhost:8080/"
        },
        "id": "Ujwe12Jdneli",
        "outputId": "949e56db-fd4f-40d0-c3e3-e74a9ed6fe98"
      },
      "execution_count": 53,
      "outputs": [
        {
          "output_type": "stream",
          "name": "stdout",
          "text": [
            "Testing input data --> 300 images with 200 cols(features)\n",
            "     0         1         2         3         4         5         6    \\\n",
            "0    0.0  0.000000  0.000000  0.035294  0.992157  0.992157  0.458824   \n",
            "1    0.0  0.000000  0.000000  0.000000  0.007843  0.607843  0.988235   \n",
            "2    0.0  0.156863  0.898039  0.992157  0.992157  0.992157  0.278431   \n",
            "3    0.0  0.000000  0.000000  0.000000  0.145098  0.988235  0.992157   \n",
            "4    0.0  0.000000  0.000000  0.000000  0.043137  0.607843  0.913725   \n",
            "..   ...       ...       ...       ...       ...       ...       ...   \n",
            "295  0.0  0.000000  0.000000  0.000000  0.443137  1.000000  0.996078   \n",
            "296  0.0  0.000000  0.000000  0.019608  0.211765  0.533333  0.956863   \n",
            "297  0.0  0.000000  0.000000  0.000000  0.321569  0.992157  0.988235   \n",
            "298  0.0  0.000000  0.160784  0.517647  0.992157  0.996078  0.992157   \n",
            "299  0.0  0.000000  0.000000  0.000000  0.811765  0.996078  0.862745   \n",
            "\n",
            "          7         8         9    ...  190  191       192       193  \\\n",
            "0    0.000000  0.000000  0.000000  ...  0.0  0.0  0.000000  0.000000   \n",
            "1    0.329412  0.000000  0.000000  ...  0.0  0.0  0.000000  0.000000   \n",
            "2    0.000000  0.000000  0.000000  ...  0.0  0.0  0.000000  0.000000   \n",
            "3    0.137255  0.000000  0.000000  ...  0.0  0.0  0.000000  0.000000   \n",
            "4    0.988235  0.988235  0.988235  ...  0.0  0.0  0.000000  0.000000   \n",
            "..        ...       ...       ...  ...  ...  ...       ...       ...   \n",
            "295  0.996078  0.301961  0.000000  ...  0.0  0.0  0.000000  0.000000   \n",
            "296  0.996078  1.000000  0.694118  ...  0.0  0.0  0.254902  0.992157   \n",
            "297  0.717647  0.000000  0.000000  ...  0.0  0.0  0.000000  0.000000   \n",
            "298  0.996078  0.992157  0.996078  ...  0.0  0.0  0.160784  0.992157   \n",
            "299  0.066667  0.000000  0.000000  ...  0.0  0.0  0.000000  0.000000   \n",
            "\n",
            "          194       195       196       197       198       199  \n",
            "0    0.000000  0.000000  0.000000  0.003922  0.435294  0.992157  \n",
            "1    0.000000  0.000000  0.000000  0.000000  0.000000  0.945098  \n",
            "2    0.000000  0.000000  0.000000  0.000000  0.819608  0.992157  \n",
            "3    0.000000  0.000000  0.000000  0.000000  0.000000  0.854902  \n",
            "4    0.000000  0.529412  0.992157  0.992157  0.815686  0.933333  \n",
            "..        ...       ...       ...       ...       ...       ...  \n",
            "295  0.662745  0.992157  0.992157  0.568627  0.003922  0.313725  \n",
            "296  0.992157  0.952941  0.243137  0.000000  0.000000  0.000000  \n",
            "297  0.000000  0.000000  0.000000  0.000000  0.000000  0.443137  \n",
            "298  0.988235  0.317647  0.000000  0.000000  0.000000  0.000000  \n",
            "299  0.000000  0.000000  0.000000  0.000000  0.000000  0.141176  \n",
            "\n",
            "[300 rows x 200 columns]\n",
            "Testing output label --> class wise segregation\n",
            "     0\n",
            "0    1\n",
            "1    1\n",
            "2    1\n",
            "3    1\n",
            "4    0\n",
            "..  ..\n",
            "295  0\n",
            "296  0\n",
            "297  1\n",
            "298  0\n",
            "299  1\n",
            "\n",
            "[300 rows x 1 columns]\n"
          ]
        }
      ]
    },
    {
      "cell_type": "markdown",
      "source": [
        "Now Setting Neural Network Parameters like number of epochs, batch_size, neurons in each layer(list is passed), learning rate type(for normal gradient descent, adaptive gradient descent), learning rate, activation type(sigmoid activation, tanh activation, RELU activation, Softmax Activation), loss function type(Cross Entropy loss Function, Mean Squared Error loss function), initial seed value(Taking default value as 87)."
      ],
      "metadata": {
        "id": "IDjjQfJ_nkkn"
      }
    },
    {
      "cell_type": "code",
      "source": [
        "# Need to open params.txt here instead of manual data entering\n",
        "epochs = 500\n",
        "batch_size = 100\n",
        "layers = [100, 50, 20, 2]\n",
        "lr_type = 1\n",
        "lr = 2\n",
        "act_type = 0\n",
        "loss_type = 0\n",
        "seed_val = 22"
      ],
      "metadata": {
        "id": "1hCIzv3LnmvT"
      },
      "execution_count": 54,
      "outputs": []
    },
    {
      "cell_type": "markdown",
      "source": [
        "Doing random initialisation of neural nets weights matrix according to Xavier's Initialisation of weights."
      ],
      "metadata": {
        "id": "aQelHk51osAS"
      }
    },
    {
      "cell_type": "code",
      "source": [
        "# Number of training datavalues\n",
        "N = X_train.shape[0]\n",
        "\n",
        "weights = []\n",
        "\n",
        "np.random.seed(seed_val)\n",
        "\n",
        "# Initial number of neurons which is feature of dataset then after each iteration this will change to previous layers neurons\n",
        "m = X_train.shape[1]\n",
        "\n",
        "# Initialising weights\n",
        "for i in range(len(layers)):\n",
        "    n = layers[i]\n",
        "\n",
        "    # Initialisation of weights of each layer,\n",
        "    # Random data values from a normal distribution whose mean is 0 \n",
        "    # and std. deviation is 1 and output dimension is (m+1 cross n) [previous_layer_neurons+1  cross current_layer_neurons] \n",
        "    weights.append(np.float64(np.random.normal(0,1,(m+1,n))*np.sqrt(2/(m+n+1))))\n",
        "\n",
        "    # change the number of input neurons\n",
        "    m = n\n",
        "\n",
        "# Prints weight matrix of last layer\n",
        "print(\"Weight matrices at different levels of our Neural Network\")\n",
        "for i in range(len(layers)):\n",
        "    print(weights[i].shape)"
      ],
      "metadata": {
        "colab": {
          "base_uri": "https://localhost:8080/"
        },
        "id": "P2lfcUsXo0TA",
        "outputId": "1a8000dc-5dd6-4ecc-9a7b-fb52f4495403"
      },
      "execution_count": 55,
      "outputs": [
        {
          "output_type": "stream",
          "name": "stdout",
          "text": [
            "Weight matrices at different levels of our Neural Network\n",
            "(201, 100)\n",
            "(101, 50)\n",
            "(51, 20)\n",
            "(21, 2)\n"
          ]
        }
      ]
    },
    {
      "cell_type": "markdown",
      "source": [
        "Dividing Training Dataset into batches of batch_size."
      ],
      "metadata": {
        "id": "8_TfhRGKpU5b"
      }
    },
    {
      "cell_type": "code",
      "source": [
        "# Dividing data into batches\n",
        "training_batch = []\n",
        "# Adding a columns of ones to absorb bias in the training data\n",
        "\n",
        "print(\"Dividing the training dataset into batches for easy and efficient usage!!\")\n",
        "print(\"======================================================\")\n",
        "print(\"Adding a column of 1s in the dataset, just to absorb bias in the neural network\")\n",
        "X_train = np.concatenate((np.ones((X_train.shape[0],1)), X_train), axis=1)\n",
        "print(pd.DataFrame(X_train))\n",
        "\n",
        "number_batches = N//batch_size\n",
        "for i in range(number_batches):\n",
        "    # Adding a tupple of (X,Y) in batches\n",
        "    training_batch.append((X_train[i*batch_size:(i+1)*batch_size,:], Y_train[i*batch_size:(i+1)*batch_size,:]))\n"
      ],
      "metadata": {
        "colab": {
          "base_uri": "https://localhost:8080/"
        },
        "id": "V4PZMPk7pkl2",
        "outputId": "9863fa6b-8019-423a-8443-59d74db76c7e"
      },
      "execution_count": 56,
      "outputs": [
        {
          "output_type": "stream",
          "name": "stdout",
          "text": [
            "Dividing the training dataset into batches for easy and efficient usage!!\n",
            "======================================================\n",
            "Adding a column of 1s in the dataset, just to absorb bias in the neural network\n",
            "      0    1         2         3         4         5         6         7    \\\n",
            "0     1.0  0.0  0.000000  0.000000  0.000000  0.188235  0.933333  0.988235   \n",
            "1     1.0  0.0  0.000000  0.000000  0.000000  0.000000  0.000000  0.000000   \n",
            "2     1.0  0.0  0.125490  0.929412  0.992157  0.988235  0.278431  0.000000   \n",
            "3     1.0  0.0  0.000000  0.019608  0.247059  0.772549  0.000000  0.000000   \n",
            "4     1.0  0.0  0.003922  0.658824  0.949020  0.109804  0.000000  0.000000   \n",
            "...   ...  ...       ...       ...       ...       ...       ...       ...   \n",
            "2995  1.0  0.0  0.039216  0.650980  0.882353  0.992157  0.992157  0.992157   \n",
            "2996  1.0  0.0  0.321569  0.807843  0.992157  0.988235  0.988235  0.988235   \n",
            "2997  1.0  0.0  0.000000  0.000000  0.031373  0.513725  0.839216  0.984314   \n",
            "2998  1.0  0.0  0.000000  0.000000  0.529412  0.968627  0.988235  0.909804   \n",
            "2999  1.0  0.0  0.000000  0.000000  0.000000  0.105882  0.482353  0.917647   \n",
            "\n",
            "           8         9    ...  191       192       193       194       195  \\\n",
            "0     0.988235  0.988235  ...  0.0  0.000000  0.000000  0.027451  0.698039   \n",
            "1     0.000000  0.486275  ...  0.0  0.000000  0.000000  0.000000  0.000000   \n",
            "2     0.000000  0.000000  ...  0.0  0.000000  0.000000  0.000000  0.000000   \n",
            "3     0.000000  0.000000  ...  0.0  0.000000  0.000000  0.000000  0.000000   \n",
            "4     0.000000  0.000000  ...  0.0  0.000000  0.000000  0.000000  0.000000   \n",
            "...        ...       ...  ...  ...       ...       ...       ...       ...   \n",
            "2995  0.964706  0.419608  ...  0.0  0.219608  0.882353  0.992157  0.992157   \n",
            "2996  0.992157  0.988235  ...  0.0  0.000000  0.027451  0.800000  0.992157   \n",
            "2997  0.984314  0.984314  ...  0.0  0.000000  0.282353  0.984314  0.984314   \n",
            "2998  0.490196  0.000000  ...  0.0  0.000000  0.000000  0.000000  0.000000   \n",
            "2999  0.960784  0.992157  ...  0.0  0.000000  0.341176  0.976471  0.992157   \n",
            "\n",
            "           196       197       198       199       200  \n",
            "0     0.988235  0.941176  0.278431  0.074510  0.109804  \n",
            "1     0.000000  0.000000  0.000000  0.000000  0.125490  \n",
            "2     0.000000  0.000000  0.000000  0.000000  1.000000  \n",
            "3     0.000000  0.000000  0.000000  0.000000  0.698039  \n",
            "4     0.000000  0.000000  0.000000  0.113725  0.996078  \n",
            "...        ...       ...       ...       ...       ...  \n",
            "2995  0.992157  0.403922  0.000000  0.000000  0.000000  \n",
            "2996  0.839216  0.000000  0.000000  0.000000  0.000000  \n",
            "2997  0.984314  0.898039  0.270588  0.058824  0.000000  \n",
            "2998  0.000000  0.000000  0.000000  0.000000  1.000000  \n",
            "2999  0.666667  0.000000  0.000000  0.000000  0.000000  \n",
            "\n",
            "[3000 rows x 201 columns]\n"
          ]
        }
      ]
    },
    {
      "cell_type": "markdown",
      "source": [
        "Now Training Our Neural Network According to given training Dataset"
      ],
      "metadata": {
        "id": "nXetEuJJs8_P"
      }
    },
    {
      "cell_type": "code",
      "source": [
        "# Making loss array to store loss value after each epoch to compare loss values according to epoch\n",
        "tmp = lr\n",
        "loss = []\n",
        "\n",
        "print(\"Now training the model on the training dataset divided in batches\")\n",
        "\n",
        "for epoch in range(epochs):\n",
        "    # For adaptive gradient descent\n",
        "    if lr_type == 1:\n",
        "        lr = tmp/math.sqrt(epoch+1)\n",
        "\n",
        "    total_loss = 0\n",
        "\n",
        "    # Go over every batch and train my neural network\n",
        "    for batch, Y in training_batch:\n",
        "        values = []\n",
        "        values.append(batch)\n",
        "\n",
        "        # store original batch as this will get modified in next for loop\n",
        "        batch1 = batch\n",
        "        # Forward Propogation this batch so that it can be used in Backpropogation\n",
        "        for i in range(len(layers)-1):\n",
        "            batch = np.dot(batch, weights[i])\n",
        "            if act_type == 0:\n",
        "                batch = sigmoid(batch)\n",
        "            elif act_type == 1:\n",
        "                batch = tanh(batch)\n",
        "            else:\n",
        "                batch = relu(batch)\n",
        "            \n",
        "            # Concatenate with a columns of ones after output from each layer to absorb bias in the data\n",
        "            batch = np.concatenate((np.ones((batch_size, 1)),batch), axis = 1)\n",
        "\n",
        "            # catching this in values so that it can be used in backpropogation\n",
        "            values.append(batch)\n",
        "        \n",
        "        # forward propogation for last layer\n",
        "        batch = np.dot(batch, weights[i+1])\n",
        "\n",
        "        # Activation function for last layer\n",
        "        if loss_type == 0:\n",
        "            output = softmax(batch)\n",
        "        else:\n",
        "            output = tanh(batch_size)\n",
        "\n",
        "        # Final output of this neural network for this batch without tweeking weights wrong output most probably\n",
        "        values.append(output)\n",
        "\n",
        "        # Calculating derivative of loss function for backpropogation of neural net\n",
        "        if loss_type == 0:\n",
        "            der = (output-Y)/Y.shape[0]\n",
        "\n",
        "        else:\n",
        "            if act_type == 0:\n",
        "                der = (output-Y)*derivative_sigmoid(output)/Y.shape[0]\n",
        "            elif act_type:\n",
        "                der = (output-Y)*derivative_tanh(output)/Y.shape[0]\n",
        "            else:\n",
        "                der = (output-Y)*derivative_relu(output)/Y.shape[0]\n",
        "        \n",
        "        # Back propogating error \n",
        "        for i in range(len(layers)-1,-1,-1):\n",
        "            weight_copy = weights[i].copy()\n",
        "            w = np.dot(values[i].T, der)\n",
        "\n",
        "            weights[i] -= lr*w\n",
        "\n",
        "            if act_type == 0:\n",
        "                der = np.dot(der, weight_copy.T)*derivative_sigmoid(values[i])\n",
        "            elif act_type == 1:\n",
        "                der = np.dot(der, weight_copy.T)*derivative_tanh(values[i])\n",
        "            else:\n",
        "                der = np.dot(der, weight_copy.T)*derivative_relu(values[i])\n",
        "            \n",
        "            der = np.delete(der, 0, axis = 1)\n",
        "\n",
        "        # Calculating predicted output of this batch to calculate loss value of this batch\n",
        "        output = batch1\n",
        "        for i in range(len(layers)-1):\n",
        "            output = np.dot(output, weights[i])\n",
        "            if act_type == 0:\n",
        "                output = sigmoid(output)\n",
        "            elif act_type == 1:\n",
        "                output = tanh(output)\n",
        "            else:\n",
        "                output = relu(output)\n",
        "\n",
        "            output = np.concatenate((np.ones((output.shape[0], 1)), output), axis = 1)\n",
        "        \n",
        "        # Forward propogating for output layer\n",
        "        output = np.dot(output, weights[i+1])\n",
        "        # Activation function for last layer\n",
        "        if loss_type == 0:\n",
        "            output = softmax(output)\n",
        "        else:\n",
        "            output = tanh(output)\n",
        "\n",
        "        # According to loss type calculate loss value of this batch\n",
        "        if loss_type == 0:\n",
        "            total_loss += CE(Y, output)\n",
        "        else:\n",
        "            total_loss += MSE(Y, output)\n",
        "    # append to this epoch's loss value\n",
        "    loss.append(total_loss)\n",
        "\n",
        "print(\"Graphical representation of Training Loss vs number of epochs -->\")\n",
        "plt.plot([(epoch+1) for epoch in range(epochs)], loss)\n",
        "plt.show() \n",
        "        \n",
        "# Predicting output for testing dataset\n",
        "for i in range(len(layers)-1):\n",
        "    X_test = np.concatenate((np.ones((X_test.shape[0],1)), X_test), axis = 1)\n",
        "    X_test = np.dot(X_test, weights[i])\n",
        "    \n",
        "    if act_type == 0:\n",
        "        X_test = sigmoid(X_test)\n",
        "    elif act_type == 1:\n",
        "        X_test = tanh(X_test)\n",
        "    else:\n",
        "        X_test = relu(X_test)\n",
        "\n",
        "X_test = np.concatenate((np.ones((X_test.shape[0],1)), X_test), axis = 1)\n",
        "X_test = np.dot(X_test, weights[i+1])\n",
        "\n",
        "if loss_type == 0:\n",
        "    output = softmax(X_test)\n",
        "else:\n",
        "    output = tanh(X_test)\n",
        "pred = np.argmax(output, axis=1)\n",
        "\n",
        "correct = 0\n",
        "total = pred.shape[0]\n",
        "\n",
        "for i in range(total):\n",
        "    if pred[i] == Y_test[i]:\n",
        "        correct+=1\n",
        "\n",
        "print(\"Accuracy on testing dataset -->\")\n",
        "print((correct/total)*100)        "
      ],
      "metadata": {
        "colab": {
          "base_uri": "https://localhost:8080/",
          "height": 320
        },
        "id": "axQg8rkGtEPY",
        "outputId": "4c1f1f40-7426-407f-a275-0a1641115a77"
      },
      "execution_count": 57,
      "outputs": [
        {
          "output_type": "stream",
          "name": "stdout",
          "text": [
            "Now training the model on the training dataset divided in batches\n",
            "Graphical representation of Training Loss vs number of epochs -->\n"
          ]
        },
        {
          "output_type": "display_data",
          "data": {
            "text/plain": [
              "<Figure size 432x288 with 1 Axes>"
            ],
            "image/png": "[encoded data removed]"
          },
          "metadata": {
            "needs_background": "light"
          }
        },
        {
          "output_type": "stream",
          "name": "stdout",
          "text": [
            "99.0\n"
          ]
        }
      ]
    }
  ]
}